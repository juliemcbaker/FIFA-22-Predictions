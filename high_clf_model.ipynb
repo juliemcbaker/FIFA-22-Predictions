{
 "cells": [
  {
   "cell_type": "code",
   "execution_count": 24,
   "metadata": {},
   "outputs": [],
   "source": [
    "# Import dependencies\n",
    "import pandas as pd\n",
    "import seaborn as sn\n",
    "import matplotlib.pyplot as plt\n",
    "from sklearn.model_selection import train_test_split\n",
    "from sklearn.preprocessing import StandardScaler\n",
    "from sklearn.ensemble import RandomForestClassifier\n",
    "from sklearn.ensemble import RandomForestRegressor\n",
    "import pickle"
   ]
  },
  {
   "cell_type": "code",
   "execution_count": 3,
   "metadata": {},
   "outputs": [],
   "source": [
    "# Load File\n",
    "path = \"Resources/players_fifa22.csv\"\n",
    "df = pd.read_csv(path)"
   ]
  },
  {
   "cell_type": "code",
   "execution_count": 6,
   "metadata": {
    "scrolled": false
   },
   "outputs": [],
   "source": [
    "# df.columns"
   ]
  },
  {
   "cell_type": "code",
   "execution_count": 7,
   "metadata": {},
   "outputs": [],
   "source": [
    "# Dropping all Goal Keepers\n",
    "df = df[(df[\"BestPosition\"] != \"GK\")]"
   ]
  },
  {
   "cell_type": "code",
   "execution_count": 8,
   "metadata": {},
   "outputs": [],
   "source": [
    "# Changing High Medium and Low Values\n",
    "df = df.replace([\"High\", \"Medium\", \"Low\"], [2,1,0])"
   ]
  },
  {
   "cell_type": "code",
   "execution_count": 9,
   "metadata": {},
   "outputs": [],
   "source": [
    "# Create List of Columns to drop\n",
    "columns_to_drop = [\"ID\",\"Name\",\"FullName\",\"PhotoUrl\",\"Nationality\",\"Potential\",\"Growth\",\"TotalStats\",\n",
    "                    \"BaseStats\",\"Positions\",\"BestPosition\",\"Club\",\"ClubPosition\",\"ContractUntil\",\"ClubNumber\",\n",
    "                    \"ClubJoined\",\"OnLoad\",\"NationalTeam\",\"NationalPosition\",\"NationalNumber\", \"IntReputation\",\n",
    "                    \"PreferredFoot\",'GKDiving', 'GKHandling', 'GKKicking', 'GKPositioning', 'GKReflexes',\n",
    "                    'STRating', 'LWRating', 'LFRating', 'CFRating', 'RFRating', 'RWRating',\n",
    "                    'CAMRating', 'LMRating', 'CMRating', 'RMRating', 'LWBRating',\n",
    "                    'CDMRating', 'RWBRating', 'LBRating', 'CBRating', 'RBRating',\n",
    "                    'GKRating']\n",
    "\n",
    "# Drop Columns\n",
    "df = df.drop(columns=columns_to_drop)"
   ]
  },
  {
   "cell_type": "code",
   "execution_count": 10,
   "metadata": {},
   "outputs": [],
   "source": [
    "# df.columns"
   ]
  },
  {
   "cell_type": "code",
   "execution_count": 11,
   "metadata": {},
   "outputs": [],
   "source": [
    "# # Create Correlation Matrix\n",
    "# name = df.corr()\n",
    "# plt.subplots(figsize=(100,100))\n",
    "# sn.heatmap(name, annot=True)  \n",
    "# plt.savefig(\"CorrelationHeatMap.png\")\n",
    "# plt.show()"
   ]
  },
  {
   "cell_type": "code",
   "execution_count": 12,
   "metadata": {},
   "outputs": [],
   "source": [
    "# Dropping higly co-relateed columns\n",
    "drop_columns = [\"Finishing\",\"Dribbling\",'Acceleration','SprintSpeed',\"StandingTackle\",\n",
    "                'Marking', 'StandingTackle', 'SlidingTackle',\"Reactions\"]\n",
    "\n",
    "#Create new Dataframe\n",
    "new_df = df.drop(columns=drop_columns)\n",
    "# Drop all null values\n",
    "new_df=new_df.dropna()\n",
    "# Save new csv\n",
    "new_df.to_csv('Resources/FIFA_df_final.csv')"
   ]
  },
  {
   "cell_type": "code",
   "execution_count": 13,
   "metadata": {},
   "outputs": [],
   "source": [
    "# Use get dummies to encode the data\n",
    "new_df2=pd.get_dummies(new_df)"
   ]
  },
  {
   "cell_type": "code",
   "execution_count": 14,
   "metadata": {},
   "outputs": [
    {
     "data": {
      "text/html": [
       "<div>\n",
       "<style scoped>\n",
       "    .dataframe tbody tr th:only-of-type {\n",
       "        vertical-align: middle;\n",
       "    }\n",
       "\n",
       "    .dataframe tbody tr th {\n",
       "        vertical-align: top;\n",
       "    }\n",
       "\n",
       "    .dataframe thead th {\n",
       "        text-align: right;\n",
       "    }\n",
       "</style>\n",
       "<table border=\"1\" class=\"dataframe\">\n",
       "  <thead>\n",
       "    <tr style=\"text-align: right;\">\n",
       "      <th></th>\n",
       "      <th>Age</th>\n",
       "      <th>Height</th>\n",
       "      <th>Weight</th>\n",
       "      <th>WeakFoot</th>\n",
       "      <th>SkillMoves</th>\n",
       "      <th>AttackingWorkRate</th>\n",
       "      <th>DefensiveWorkRate</th>\n",
       "      <th>PaceTotal</th>\n",
       "      <th>ShootingTotal</th>\n",
       "      <th>PassingTotal</th>\n",
       "      <th>...</th>\n",
       "      <th>Jumping</th>\n",
       "      <th>Stamina</th>\n",
       "      <th>Strength</th>\n",
       "      <th>LongShots</th>\n",
       "      <th>Aggression</th>\n",
       "      <th>Interceptions</th>\n",
       "      <th>Positioning</th>\n",
       "      <th>Vision</th>\n",
       "      <th>Penalties</th>\n",
       "      <th>Composure</th>\n",
       "    </tr>\n",
       "  </thead>\n",
       "  <tbody>\n",
       "    <tr>\n",
       "      <th>0</th>\n",
       "      <td>34</td>\n",
       "      <td>170</td>\n",
       "      <td>72</td>\n",
       "      <td>4</td>\n",
       "      <td>4</td>\n",
       "      <td>1</td>\n",
       "      <td>0</td>\n",
       "      <td>85</td>\n",
       "      <td>92</td>\n",
       "      <td>91</td>\n",
       "      <td>...</td>\n",
       "      <td>68</td>\n",
       "      <td>72</td>\n",
       "      <td>69</td>\n",
       "      <td>94</td>\n",
       "      <td>44</td>\n",
       "      <td>40</td>\n",
       "      <td>93</td>\n",
       "      <td>95</td>\n",
       "      <td>75</td>\n",
       "      <td>96</td>\n",
       "    </tr>\n",
       "    <tr>\n",
       "      <th>1</th>\n",
       "      <td>32</td>\n",
       "      <td>185</td>\n",
       "      <td>81</td>\n",
       "      <td>4</td>\n",
       "      <td>4</td>\n",
       "      <td>2</td>\n",
       "      <td>1</td>\n",
       "      <td>78</td>\n",
       "      <td>92</td>\n",
       "      <td>79</td>\n",
       "      <td>...</td>\n",
       "      <td>85</td>\n",
       "      <td>76</td>\n",
       "      <td>86</td>\n",
       "      <td>87</td>\n",
       "      <td>81</td>\n",
       "      <td>49</td>\n",
       "      <td>95</td>\n",
       "      <td>81</td>\n",
       "      <td>90</td>\n",
       "      <td>88</td>\n",
       "    </tr>\n",
       "    <tr>\n",
       "      <th>2</th>\n",
       "      <td>36</td>\n",
       "      <td>187</td>\n",
       "      <td>83</td>\n",
       "      <td>4</td>\n",
       "      <td>5</td>\n",
       "      <td>2</td>\n",
       "      <td>0</td>\n",
       "      <td>87</td>\n",
       "      <td>94</td>\n",
       "      <td>80</td>\n",
       "      <td>...</td>\n",
       "      <td>95</td>\n",
       "      <td>77</td>\n",
       "      <td>77</td>\n",
       "      <td>93</td>\n",
       "      <td>63</td>\n",
       "      <td>29</td>\n",
       "      <td>95</td>\n",
       "      <td>76</td>\n",
       "      <td>88</td>\n",
       "      <td>95</td>\n",
       "    </tr>\n",
       "    <tr>\n",
       "      <th>3</th>\n",
       "      <td>22</td>\n",
       "      <td>182</td>\n",
       "      <td>73</td>\n",
       "      <td>4</td>\n",
       "      <td>5</td>\n",
       "      <td>2</td>\n",
       "      <td>0</td>\n",
       "      <td>97</td>\n",
       "      <td>88</td>\n",
       "      <td>80</td>\n",
       "      <td>...</td>\n",
       "      <td>78</td>\n",
       "      <td>88</td>\n",
       "      <td>77</td>\n",
       "      <td>82</td>\n",
       "      <td>62</td>\n",
       "      <td>38</td>\n",
       "      <td>92</td>\n",
       "      <td>82</td>\n",
       "      <td>79</td>\n",
       "      <td>88</td>\n",
       "    </tr>\n",
       "    <tr>\n",
       "      <th>5</th>\n",
       "      <td>30</td>\n",
       "      <td>181</td>\n",
       "      <td>70</td>\n",
       "      <td>5</td>\n",
       "      <td>4</td>\n",
       "      <td>2</td>\n",
       "      <td>2</td>\n",
       "      <td>76</td>\n",
       "      <td>86</td>\n",
       "      <td>93</td>\n",
       "      <td>...</td>\n",
       "      <td>63</td>\n",
       "      <td>89</td>\n",
       "      <td>74</td>\n",
       "      <td>91</td>\n",
       "      <td>76</td>\n",
       "      <td>66</td>\n",
       "      <td>88</td>\n",
       "      <td>94</td>\n",
       "      <td>83</td>\n",
       "      <td>89</td>\n",
       "    </tr>\n",
       "  </tbody>\n",
       "</table>\n",
       "<p>5 rows × 34 columns</p>\n",
       "</div>"
      ],
      "text/plain": [
       "   Age  Height  Weight  WeakFoot  SkillMoves  AttackingWorkRate  \\\n",
       "0   34     170      72         4           4                  1   \n",
       "1   32     185      81         4           4                  2   \n",
       "2   36     187      83         4           5                  2   \n",
       "3   22     182      73         4           5                  2   \n",
       "5   30     181      70         5           4                  2   \n",
       "\n",
       "   DefensiveWorkRate  PaceTotal  ShootingTotal  PassingTotal  ...  Jumping  \\\n",
       "0                  0         85             92            91  ...       68   \n",
       "1                  1         78             92            79  ...       85   \n",
       "2                  0         87             94            80  ...       95   \n",
       "3                  0         97             88            80  ...       78   \n",
       "5                  2         76             86            93  ...       63   \n",
       "\n",
       "   Stamina  Strength  LongShots  Aggression  Interceptions  Positioning  \\\n",
       "0       72        69         94          44             40           93   \n",
       "1       76        86         87          81             49           95   \n",
       "2       77        77         93          63             29           95   \n",
       "3       88        77         82          62             38           92   \n",
       "5       89        74         91          76             66           88   \n",
       "\n",
       "   Vision  Penalties  Composure  \n",
       "0      95         75         96  \n",
       "1      81         90         88  \n",
       "2      76         88         95  \n",
       "3      82         79         88  \n",
       "5      94         83         89  \n",
       "\n",
       "[5 rows x 34 columns]"
      ]
     },
     "execution_count": 14,
     "metadata": {},
     "output_type": "execute_result"
    }
   ],
   "source": [
    "# Create variables for features and targets\n",
    "y = new_df2[\"Overall\"]\n",
    "y1 = new_df2[\"ValueEUR\"]\n",
    "y2 = new_df2[\"WageEUR\"]\n",
    "y3 = new_df2[\"ReleaseClause\"]\n",
    "X = new_df2.drop(columns=[\"Overall\", \"ValueEUR\", \"WageEUR\", \"ReleaseClause\"])\n",
    "X.head()"
   ]
  },
  {
   "cell_type": "code",
   "execution_count": 17,
   "metadata": {},
   "outputs": [
    {
     "data": {
      "text/plain": [
       "0.9736948909889085"
      ]
     },
     "execution_count": 17,
     "metadata": {},
     "output_type": "execute_result"
    }
   ],
   "source": [
    "# Split the data into train and test sets\n",
    "X_train, X_test, y_train, y_test = train_test_split(X, y, test_size=0.1)\n",
    "# Scale the data using Standard Scaler\n",
    "scaler = StandardScaler().fit(X_train)\n",
    "X_train_scaled = scaler.transform(X_train)\n",
    "X_test_scaled = scaler.transform(X_test)\n",
    "# Get a random forest classifier score# Use a Random FOrest Regressor to create a prediction model\n",
    "clr0 = RandomForestRegressor()\n",
    "clr0.fit(X_train_scaled, y_train)\n",
    "clr0.score(X_test_scaled, y_test)"
   ]
  },
  {
   "cell_type": "code",
   "execution_count": 19,
   "metadata": {},
   "outputs": [
    {
     "data": {
      "text/plain": [
       "[(0.45098030134568773, 'Composure'),\n",
       " (0.2181580887050258, 'BallControl'),\n",
       " (0.16557260035448532, 'DefendingTotal'),\n",
       " (0.030767837815064036, 'DribblingTotal'),\n",
       " (0.02791377502317507, 'Positioning'),\n",
       " (0.018589476802346867, 'Crossing'),\n",
       " (0.016083705008662845, 'ShootingTotal'),\n",
       " (0.010750044352451289, 'PhysicalityTotal'),\n",
       " (0.010294199376855702, 'Stamina'),\n",
       " (0.0076146202981426945, 'PaceTotal'),\n",
       " (0.0061194346547090595, 'ShortPassing'),\n",
       " (0.00579696192355374, 'Interceptions'),\n",
       " (0.004057598927037036, 'HeadingAccuracy'),\n",
       " (0.003943819116059768, 'PassingTotal'),\n",
       " (0.002351671806838909, 'Aggression'),\n",
       " (0.0023455078075281257, 'Age'),\n",
       " (0.0018826141465103274, 'ShotPower'),\n",
       " (0.0017343156276966244, 'Vision'),\n",
       " (0.0016203487410934732, 'LongShots'),\n",
       " (0.0014966899152761097, 'LongPassing'),\n",
       " (0.0014693648669851758, 'Strength'),\n",
       " (0.0013283116249465387, 'Agility'),\n",
       " (0.001314653183252907, 'Jumping'),\n",
       " (0.0011267297202556552, 'Volleys'),\n",
       " (0.001040727872547591, 'Penalties'),\n",
       " (0.001018223334856671, 'Balance'),\n",
       " (0.0010096207384628303, 'Curve'),\n",
       " (0.0009535506290708387, 'FKAccuracy'),\n",
       " (0.0009128893288552544, 'Weight'),\n",
       " (0.0008922512853209887, 'Height'),\n",
       " (0.0002565263854172191, 'WeakFoot'),\n",
       " (0.0002198072240397484, 'AttackingWorkRate'),\n",
       " (0.00021027873751416537, 'DefensiveWorkRate'),\n",
       " (0.00017345332027391875, 'SkillMoves')]"
      ]
     },
     "execution_count": 19,
     "metadata": {},
     "output_type": "execute_result"
    }
   ],
   "source": [
    "sorted(list(zip(clr0.feature_importances_, X_train.columns)), reverse=True)"
   ]
  },
  {
   "cell_type": "code",
   "execution_count": 20,
   "metadata": {},
   "outputs": [
    {
     "data": {
      "text/plain": [
       "<AxesSubplot:>"
      ]
     },
     "execution_count": 20,
     "metadata": {},
     "output_type": "execute_result"
    },
    {
     "data": {
      "image/png": "[encoded data removed]",
      "text/plain": [
       "<Figure size 1080x1080 with 2 Axes>"
      ]
     },
     "metadata": {
      "needs_background": "light"
     },
     "output_type": "display_data"
    }
   ],
   "source": [
    "# View Co-realtion matrix for X and Y\n",
    "plt.figure(figsize=(15, 15))\n",
    "sn.heatmap(pd.concat([X,y], axis=1).corr())"
   ]
  },
  {
   "cell_type": "code",
   "execution_count": 21,
   "metadata": {},
   "outputs": [
    {
     "data": {
      "text/plain": [
       "0.8712784930163958"
      ]
     },
     "execution_count": 21,
     "metadata": {},
     "output_type": "execute_result"
    }
   ],
   "source": [
    "# Predicting Values in Euros\n",
    "# Split the data into train and test sets\n",
    "X_train, X_test, y_train, y_test = train_test_split(X, y1, test_size=0.1)\n",
    "# Scale the data using Standard Scaler\n",
    "scaler = StandardScaler().fit(X_train)\n",
    "X_train_scaled = scaler.transform(X_train)\n",
    "X_test_scaled = scaler.transform(X_test)\n",
    "# Use a Random FOrest Regressor to create a prediction model\n",
    "clr1 = RandomForestRegressor()\n",
    "clr1.fit(X_train_scaled, y_train)\n",
    "clr1.score(X_test_scaled, y_test)"
   ]
  },
  {
   "cell_type": "code",
   "execution_count": 22,
   "metadata": {},
   "outputs": [
    {
     "data": {
      "text/plain": [
       "0.7143414211105701"
      ]
     },
     "execution_count": 22,
     "metadata": {},
     "output_type": "execute_result"
    }
   ],
   "source": [
    "# Predicting Wages in Euros\n",
    "# Split the data into train and test sets\n",
    "X_train, X_test, y_train, y_test = train_test_split(X, y2, test_size=0.1)\n",
    "# Scale the data using Standard Scaler\n",
    "scaler = StandardScaler().fit(X_train)\n",
    "X_train_scaled = scaler.transform(X_train)\n",
    "X_test_scaled = scaler.transform(X_test)\n",
    "# Use a Random FOrest Regressor to create a prediction model\n",
    "clr2 = RandomForestRegressor()\n",
    "clr2.fit(X_train_scaled, y_train)\n",
    "clr2.score(X_test_scaled, y_test)"
   ]
  },
  {
   "cell_type": "code",
   "execution_count": 23,
   "metadata": {},
   "outputs": [
    {
     "data": {
      "text/plain": [
       "0.7998687918657164"
      ]
     },
     "execution_count": 23,
     "metadata": {},
     "output_type": "execute_result"
    }
   ],
   "source": [
    "# Predicting Release Clause\n",
    "# Split the data into train and test sets\n",
    "X_train, X_test, y_train, y_test = train_test_split(X, y3, test_size=0.1)\n",
    "# Scale the data using Standard Scaler\n",
    "scaler = StandardScaler()\n",
    "scaler = StandardScaler().fit(X_train)\n",
    "X_train_scaled = scaler.transform(X_train)\n",
    "X_test_scaled = scaler.transform(X_test)\n",
    "# Use a Random FOrest Regressor to create a prediction model\n",
    "clr3 = RandomForestRegressor()\n",
    "clr3.fit(X_train_scaled, y_train)\n",
    "clr3.score(X_test_scaled, y_test)"
   ]
  },
  {
   "cell_type": "code",
   "execution_count": 29,
   "metadata": {},
   "outputs": [],
   "source": [
    "# Save Models and scaler using pickle\n",
    "# pickle.dump(scaler, open(\"models/scaler.sav\", \"wb\"))\n",
    "# pickle.dump(clr0, open(\"models/clr0.sav\", \"wb\"))\n",
    "# pickle.dump(clr1, open(\"models/clr1.sav\", \"wb\"))\n",
    "# pickle.dump(clr2, open(\"models/clr2.sav\", \"wb\"))\n",
    "# pickle.dump(clr3, open(\"models/clr3.sav\", \"wb\"))"
   ]
  }
 ],
 "metadata": {
  "interpreter": {
   "hash": "7812ea015bdcee6f23a998adcdd2ef97c151c0c241b7b7070987d9313e41299d"
  },
  "kernelspec": {
   "display_name": "Python 3",
   "language": "python",
   "name": "python3"
  },
  "language_info": {
   "codemirror_mode": {
    "name": "ipython",
    "version": 3
   },
   "file_extension": ".py",
   "mimetype": "text/x-python",
   "name": "python",
   "nbconvert_exporter": "python",
   "pygments_lexer": "ipython3",
   "version": "3.8.5"
  }
 },
 "nbformat": 4,
 "nbformat_minor": 2
}
