{
 "cells": [
  {
   "cell_type": "code",
   "execution_count": 1,
   "metadata": {},
   "outputs": [],
   "source": [
    "# Import dependencies\n",
    "import pandas as pd\n",
    "import seaborn as sn\n",
    "import matplotlib.pyplot as plt\n",
    "from sklearn.model_selection import train_test_split\n",
    "from sklearn.preprocessing import StandardScaler\n",
    "from sklearn.ensemble import RandomForestClassifier\n",
    "from sklearn.ensemble import RandomForestRegressor\n",
    "import pickle"
   ]
  },
  {
   "cell_type": "code",
   "execution_count": 2,
   "metadata": {},
   "outputs": [],
   "source": [
    "# Load File\n",
    "path = \"Resources/players_fifa22.csv\"\n",
    "df = pd.read_csv(path)"
   ]
  },
  {
   "cell_type": "code",
   "execution_count": 3,
   "metadata": {
    "scrolled": false
   },
   "outputs": [],
   "source": [
    "# df.columns"
   ]
  },
  {
   "cell_type": "code",
   "execution_count": 4,
   "metadata": {},
   "outputs": [],
   "source": [
    "# Dropping all Goal Keepers\n",
    "df = df[(df[\"BestPosition\"] != \"GK\")]"
   ]
  },
  {
   "cell_type": "code",
   "execution_count": 5,
   "metadata": {},
   "outputs": [],
   "source": [
    "# Changing High Medium and Low Values\n",
    "df = df.replace([\"High\", \"Medium\", \"Low\"], [2,1,0])"
   ]
  },
  {
   "cell_type": "code",
   "execution_count": 6,
   "metadata": {},
   "outputs": [],
   "source": [
    "# Create List of Columns to drop\n",
    "columns_to_drop = [\"ID\",\"Name\",\"FullName\",\"PhotoUrl\",\"Nationality\",\"Potential\",\"Growth\",\"TotalStats\",\n",
    "                    \"BaseStats\",\"Positions\",\"BestPosition\",\"Club\",\"ClubPosition\",\"ContractUntil\",\"ClubNumber\",\n",
    "                    \"ClubJoined\",\"OnLoad\",\"NationalTeam\",\"NationalPosition\",\"NationalNumber\", \"IntReputation\",\n",
    "                    \"PreferredFoot\",'GKDiving', 'GKHandling', 'GKKicking', 'GKPositioning', 'GKReflexes',\n",
    "                    'STRating', 'LWRating', 'LFRating', 'CFRating', 'RFRating', 'RWRating',\n",
    "                    'CAMRating', 'LMRating', 'CMRating', 'RMRating', 'LWBRating',\n",
    "                    'CDMRating', 'RWBRating', 'LBRating', 'CBRating', 'RBRating',\n",
    "                    'GKRating']\n",
    "\n",
    "# Drop Columns\n",
    "df = df.drop(columns=columns_to_drop)"
   ]
  },
  {
   "cell_type": "code",
   "execution_count": 7,
   "metadata": {},
   "outputs": [],
   "source": [
    "# df.columns"
   ]
  },
  {
   "cell_type": "code",
   "execution_count": 8,
   "metadata": {},
   "outputs": [],
   "source": [
    "# # Create Correlation Matrix\n",
    "# name = df.corr()\n",
    "# plt.subplots(figsize=(100,100))\n",
    "# sn.heatmap(name, annot=True)  \n",
    "# plt.savefig(\"CorrelationHeatMap.png\")\n",
    "# plt.show()"
   ]
  },
  {
   "cell_type": "code",
   "execution_count": 9,
   "metadata": {},
   "outputs": [],
   "source": [
    "# Dropping higly co-relateed columns\n",
    "drop_columns = [\"Finishing\",\"Dribbling\",'Acceleration','SprintSpeed',\"StandingTackle\",\n",
    "                'Marking', 'StandingTackle', 'SlidingTackle',\"Reactions\"]\n",
    "\n",
    "#Create new Dataframe\n",
    "new_df = df.drop(columns=drop_columns)\n",
    "# Drop all null values\n",
    "new_df=new_df.dropna()\n",
    "# Save new json\n",
    "# new_df.to_json('Resources/FIFA_df_final.json')"
   ]
  },
  {
   "cell_type": "code",
   "execution_count": 23,
   "metadata": {},
   "outputs": [],
   "source": [
    "# Creating a sqlite databse file in the exisitng folder\n",
    "engine = create_engine('sqlite://', echo=False)\n",
    "conn = sqlite3.connect(\"fifa.sqlite\")\n",
    "new_df.to_sql('fifa_DB', con=conn, if_exists=\"replace\")"
   ]
  },
  {
   "cell_type": "code",
   "execution_count": 10,
   "metadata": {},
   "outputs": [],
   "source": [
    "# Use get dummies to encode the data\n",
    "new_df2=pd.get_dummies(new_df)"
   ]
  },
  {
   "cell_type": "code",
   "execution_count": 11,
   "metadata": {},
   "outputs": [
    {
     "data": {
      "text/html": [
       "<div>\n",
       "<style scoped>\n",
       "    .dataframe tbody tr th:only-of-type {\n",
       "        vertical-align: middle;\n",
       "    }\n",
       "\n",
       "    .dataframe tbody tr th {\n",
       "        vertical-align: top;\n",
       "    }\n",
       "\n",
       "    .dataframe thead th {\n",
       "        text-align: right;\n",
       "    }\n",
       "</style>\n",
       "<table border=\"1\" class=\"dataframe\">\n",
       "  <thead>\n",
       "    <tr style=\"text-align: right;\">\n",
       "      <th></th>\n",
       "      <th>Age</th>\n",
       "      <th>Height</th>\n",
       "      <th>Weight</th>\n",
       "      <th>WeakFoot</th>\n",
       "      <th>SkillMoves</th>\n",
       "      <th>AttackingWorkRate</th>\n",
       "      <th>DefensiveWorkRate</th>\n",
       "      <th>PaceTotal</th>\n",
       "      <th>ShootingTotal</th>\n",
       "      <th>PassingTotal</th>\n",
       "      <th>...</th>\n",
       "      <th>Jumping</th>\n",
       "      <th>Stamina</th>\n",
       "      <th>Strength</th>\n",
       "      <th>LongShots</th>\n",
       "      <th>Aggression</th>\n",
       "      <th>Interceptions</th>\n",
       "      <th>Positioning</th>\n",
       "      <th>Vision</th>\n",
       "      <th>Penalties</th>\n",
       "      <th>Composure</th>\n",
       "    </tr>\n",
       "  </thead>\n",
       "  <tbody>\n",
       "    <tr>\n",
       "      <th>0</th>\n",
       "      <td>34</td>\n",
       "      <td>170</td>\n",
       "      <td>72</td>\n",
       "      <td>4</td>\n",
       "      <td>4</td>\n",
       "      <td>1</td>\n",
       "      <td>0</td>\n",
       "      <td>85</td>\n",
       "      <td>92</td>\n",
       "      <td>91</td>\n",
       "      <td>...</td>\n",
       "      <td>68</td>\n",
       "      <td>72</td>\n",
       "      <td>69</td>\n",
       "      <td>94</td>\n",
       "      <td>44</td>\n",
       "      <td>40</td>\n",
       "      <td>93</td>\n",
       "      <td>95</td>\n",
       "      <td>75</td>\n",
       "      <td>96</td>\n",
       "    </tr>\n",
       "    <tr>\n",
       "      <th>1</th>\n",
       "      <td>32</td>\n",
       "      <td>185</td>\n",
       "      <td>81</td>\n",
       "      <td>4</td>\n",
       "      <td>4</td>\n",
       "      <td>2</td>\n",
       "      <td>1</td>\n",
       "      <td>78</td>\n",
       "      <td>92</td>\n",
       "      <td>79</td>\n",
       "      <td>...</td>\n",
       "      <td>85</td>\n",
       "      <td>76</td>\n",
       "      <td>86</td>\n",
       "      <td>87</td>\n",
       "      <td>81</td>\n",
       "      <td>49</td>\n",
       "      <td>95</td>\n",
       "      <td>81</td>\n",
       "      <td>90</td>\n",
       "      <td>88</td>\n",
       "    </tr>\n",
       "    <tr>\n",
       "      <th>2</th>\n",
       "      <td>36</td>\n",
       "      <td>187</td>\n",
       "      <td>83</td>\n",
       "      <td>4</td>\n",
       "      <td>5</td>\n",
       "      <td>2</td>\n",
       "      <td>0</td>\n",
       "      <td>87</td>\n",
       "      <td>94</td>\n",
       "      <td>80</td>\n",
       "      <td>...</td>\n",
       "      <td>95</td>\n",
       "      <td>77</td>\n",
       "      <td>77</td>\n",
       "      <td>93</td>\n",
       "      <td>63</td>\n",
       "      <td>29</td>\n",
       "      <td>95</td>\n",
       "      <td>76</td>\n",
       "      <td>88</td>\n",
       "      <td>95</td>\n",
       "    </tr>\n",
       "    <tr>\n",
       "      <th>3</th>\n",
       "      <td>22</td>\n",
       "      <td>182</td>\n",
       "      <td>73</td>\n",
       "      <td>4</td>\n",
       "      <td>5</td>\n",
       "      <td>2</td>\n",
       "      <td>0</td>\n",
       "      <td>97</td>\n",
       "      <td>88</td>\n",
       "      <td>80</td>\n",
       "      <td>...</td>\n",
       "      <td>78</td>\n",
       "      <td>88</td>\n",
       "      <td>77</td>\n",
       "      <td>82</td>\n",
       "      <td>62</td>\n",
       "      <td>38</td>\n",
       "      <td>92</td>\n",
       "      <td>82</td>\n",
       "      <td>79</td>\n",
       "      <td>88</td>\n",
       "    </tr>\n",
       "    <tr>\n",
       "      <th>5</th>\n",
       "      <td>30</td>\n",
       "      <td>181</td>\n",
       "      <td>70</td>\n",
       "      <td>5</td>\n",
       "      <td>4</td>\n",
       "      <td>2</td>\n",
       "      <td>2</td>\n",
       "      <td>76</td>\n",
       "      <td>86</td>\n",
       "      <td>93</td>\n",
       "      <td>...</td>\n",
       "      <td>63</td>\n",
       "      <td>89</td>\n",
       "      <td>74</td>\n",
       "      <td>91</td>\n",
       "      <td>76</td>\n",
       "      <td>66</td>\n",
       "      <td>88</td>\n",
       "      <td>94</td>\n",
       "      <td>83</td>\n",
       "      <td>89</td>\n",
       "    </tr>\n",
       "  </tbody>\n",
       "</table>\n",
       "<p>5 rows × 34 columns</p>\n",
       "</div>"
      ],
      "text/plain": [
       "   Age  Height  Weight  WeakFoot  SkillMoves  AttackingWorkRate  \\\n",
       "0   34     170      72         4           4                  1   \n",
       "1   32     185      81         4           4                  2   \n",
       "2   36     187      83         4           5                  2   \n",
       "3   22     182      73         4           5                  2   \n",
       "5   30     181      70         5           4                  2   \n",
       "\n",
       "   DefensiveWorkRate  PaceTotal  ShootingTotal  PassingTotal  ...  Jumping  \\\n",
       "0                  0         85             92            91  ...       68   \n",
       "1                  1         78             92            79  ...       85   \n",
       "2                  0         87             94            80  ...       95   \n",
       "3                  0         97             88            80  ...       78   \n",
       "5                  2         76             86            93  ...       63   \n",
       "\n",
       "   Stamina  Strength  LongShots  Aggression  Interceptions  Positioning  \\\n",
       "0       72        69         94          44             40           93   \n",
       "1       76        86         87          81             49           95   \n",
       "2       77        77         93          63             29           95   \n",
       "3       88        77         82          62             38           92   \n",
       "5       89        74         91          76             66           88   \n",
       "\n",
       "   Vision  Penalties  Composure  \n",
       "0      95         75         96  \n",
       "1      81         90         88  \n",
       "2      76         88         95  \n",
       "3      82         79         88  \n",
       "5      94         83         89  \n",
       "\n",
       "[5 rows x 34 columns]"
      ]
     },
     "execution_count": 11,
     "metadata": {},
     "output_type": "execute_result"
    }
   ],
   "source": [
    "# Create variables for features and targets\n",
    "y = new_df2[\"Overall\"]\n",
    "y1 = new_df2[\"ValueEUR\"]\n",
    "y2 = new_df2[\"WageEUR\"]\n",
    "y3 = new_df2[\"ReleaseClause\"]\n",
    "X = new_df2.drop(columns=[\"Overall\", \"ValueEUR\", \"WageEUR\", \"ReleaseClause\"])\n",
    "X.head()"
   ]
  },
  {
   "cell_type": "code",
   "execution_count": 12,
   "metadata": {},
   "outputs": [
    {
     "data": {
      "text/plain": [
       "0.9746917043851768"
      ]
     },
     "execution_count": 12,
     "metadata": {},
     "output_type": "execute_result"
    }
   ],
   "source": [
    "# Split the data into train and test sets\n",
    "X_train, X_test, y_train, y_test = train_test_split(X, y, test_size=0.1)\n",
    "# Scale the data using Standard Scaler\n",
    "scaler = StandardScaler().fit(X_train)\n",
    "X_train_scaled = scaler.transform(X_train)\n",
    "X_test_scaled = scaler.transform(X_test)\n",
    "# Get a random forest classifier score# Use a Random FOrest Regressor to create a prediction model\n",
    "clr0 = RandomForestRegressor()\n",
    "clr0.fit(X_train_scaled, y_train)\n",
    "clr0.score(X_test_scaled, y_test)"
   ]
  },
  {
   "cell_type": "code",
   "execution_count": 13,
   "metadata": {},
   "outputs": [
    {
     "data": {
      "text/plain": [
       "[(0.42225798168289014, 'Composure'),\n",
       " (0.235743529713404, 'BallControl'),\n",
       " (0.17340894557201939, 'DefendingTotal'),\n",
       " (0.030515002901445765, 'DribblingTotal'),\n",
       " (0.0281741325799509, 'Positioning'),\n",
       " (0.019715378497117464, 'Crossing'),\n",
       " (0.016801507500390958, 'ShootingTotal'),\n",
       " (0.010458795124595934, 'PhysicalityTotal'),\n",
       " (0.010054228497468948, 'Stamina'),\n",
       " (0.008554060378051486, 'ShortPassing'),\n",
       " (0.00783576197321991, 'PaceTotal'),\n",
       " (0.005077824673789348, 'HeadingAccuracy'),\n",
       " (0.004820336233532486, 'Interceptions'),\n",
       " (0.0037277963709424736, 'PassingTotal'),\n",
       " (0.0022464701985636143, 'Aggression'),\n",
       " (0.002086620085245203, 'Age'),\n",
       " (0.0018023355566274344, 'Vision'),\n",
       " (0.0016879339539269463, 'ShotPower'),\n",
       " (0.0016456555464087808, 'LongShots'),\n",
       " (0.0015909834954604101, 'LongPassing'),\n",
       " (0.0014429739781351874, 'Strength'),\n",
       " (0.0013178152639429929, 'Jumping'),\n",
       " (0.0012393647846538338, 'Agility'),\n",
       " (0.001075817807201965, 'Volleys'),\n",
       " (0.0010392998201251959, 'Penalties'),\n",
       " (0.0010261744195083718, 'Balance'),\n",
       " (0.0010141605793364508, 'Curve'),\n",
       " (0.0009697415490804602, 'FKAccuracy'),\n",
       " (0.0009323615254122809, 'Weight'),\n",
       " (0.0008804212195827445, 'Height'),\n",
       " (0.0002658954894997545, 'WeakFoot'),\n",
       " (0.00020991715088774192, 'AttackingWorkRate'),\n",
       " (0.0001951101085262211, 'DefensiveWorkRate'),\n",
       " (0.0001856657690552721, 'SkillMoves')]"
      ]
     },
     "execution_count": 13,
     "metadata": {},
     "output_type": "execute_result"
    }
   ],
   "source": [
    "sorted(list(zip(clr0.feature_importances_, X_train.columns)), reverse=True)"
   ]
  },
  {
   "cell_type": "code",
   "execution_count": 14,
   "metadata": {},
   "outputs": [],
   "source": [
    "# View Co-realtion matrix for X and Y\n",
    "plt.figure(figsize=(15, 15))\n",
    "sn.heatmap(pd.concat([X,y], axis=1).corr())"
   ]
  },
  {
   "cell_type": "code",
   "execution_count": 15,
   "metadata": {},
   "outputs": [
    {
     "data": {
      "text/plain": [
       "0.8840193046396233"
      ]
     },
     "execution_count": 15,
     "metadata": {},
     "output_type": "execute_result"
    }
   ],
   "source": [
    "# Predicting Values in Euros\n",
    "# Split the data into train and test sets\n",
    "X_train, X_test, y_train, y_test = train_test_split(X, y1, test_size=0.1)\n",
    "# Scale the data using Standard Scaler\n",
    "scaler = StandardScaler().fit(X_train)\n",
    "X_train_scaled = scaler.transform(X_train)\n",
    "X_test_scaled = scaler.transform(X_test)\n",
    "# Use a Random FOrest Regressor to create a prediction model\n",
    "clr1 = RandomForestRegressor()\n",
    "clr1.fit(X_train_scaled, y_train)\n",
    "clr1.score(X_test_scaled, y_test)"
   ]
  },
  {
   "cell_type": "code",
   "execution_count": 16,
   "metadata": {},
   "outputs": [
    {
     "data": {
      "text/plain": [
       "[(0.46595393126508966, 'BallControl'),\n",
       " (0.12741643773891814, 'DefendingTotal'),\n",
       " (0.0562599677926727, 'Positioning'),\n",
       " (0.049912475282610946, 'Age'),\n",
       " (0.04347106123146096, 'DribblingTotal'),\n",
       " (0.03543798023547755, 'Stamina'),\n",
       " (0.031329158301559835, 'ShootingTotal'),\n",
       " (0.026935299100582878, 'ShortPassing'),\n",
       " (0.023997399914976625, 'PaceTotal'),\n",
       " (0.014968164814815053, 'Interceptions'),\n",
       " (0.013173013310417127, 'HeadingAccuracy'),\n",
       " (0.010298378762413312, 'PhysicalityTotal'),\n",
       " (0.009668945149749386, 'Composure'),\n",
       " (0.009157865284589178, 'Vision'),\n",
       " (0.007978585108828692, 'Crossing'),\n",
       " (0.007161010797652807, 'Volleys'),\n",
       " (0.006623853728043848, 'LongPassing'),\n",
       " (0.005067415534489828, 'Penalties'),\n",
       " (0.0050347080753539875, 'Aggression'),\n",
       " (0.00488332337414837, 'Strength'),\n",
       " (0.0048505892251492965, 'FKAccuracy'),\n",
       " (0.004769365887473061, 'PassingTotal'),\n",
       " (0.0046112710299682155, 'ShotPower'),\n",
       " (0.004531330913357827, 'LongShots'),\n",
       " (0.004338752501691801, 'Weight'),\n",
       " (0.004063655668428947, 'Jumping'),\n",
       " (0.003565605891351535, 'Curve'),\n",
       " (0.003334620082807993, 'Agility'),\n",
       " (0.0033061000236667883, 'Balance'),\n",
       " (0.002658117727989099, 'Height'),\n",
       " (0.001795792809298741, 'DefensiveWorkRate'),\n",
       " (0.0013127925996734922, 'AttackingWorkRate'),\n",
       " (0.0010820892964585151, 'WeakFoot'),\n",
       " (0.0010509415388338, 'SkillMoves')]"
      ]
     },
     "execution_count": 16,
     "metadata": {},
     "output_type": "execute_result"
    }
   ],
   "source": [
    "sorted(list(zip(clr1.feature_importances_, X_train.columns)), reverse=True)"
   ]
  },
  {
   "cell_type": "code",
   "execution_count": 17,
   "metadata": {},
   "outputs": [
    {
     "data": {
      "text/plain": [
       "0.7429313147771188"
      ]
     },
     "execution_count": 17,
     "metadata": {},
     "output_type": "execute_result"
    }
   ],
   "source": [
    "# Predicting Wages in Euros\n",
    "# Split the data into train and test sets\n",
    "X_train, X_test, y_train, y_test = train_test_split(X, y2, test_size=0.1)\n",
    "# Scale the data using Standard Scaler\n",
    "scaler = StandardScaler().fit(X_train)\n",
    "X_train_scaled = scaler.transform(X_train)\n",
    "X_test_scaled = scaler.transform(X_test)\n",
    "# Use a Random FOrest Regressor to create a prediction model\n",
    "clr2 = RandomForestRegressor()\n",
    "clr2.fit(X_train_scaled, y_train)\n",
    "clr2.score(X_test_scaled, y_test)"
   ]
  },
  {
   "cell_type": "code",
   "execution_count": 18,
   "metadata": {},
   "outputs": [
    {
     "data": {
      "text/plain": [
       "[(0.42563291022687477, 'BallControl'),\n",
       " (0.1599899154499234, 'DefendingTotal'),\n",
       " (0.03878574169779269, 'Positioning'),\n",
       " (0.037285055884760374, 'Composure'),\n",
       " (0.032979217268954454, 'ShortPassing'),\n",
       " (0.03270492023502084, 'DribblingTotal'),\n",
       " (0.02132394219128646, 'ShotPower'),\n",
       " (0.020057920981013257, 'Interceptions'),\n",
       " (0.017032985615452204, 'ShootingTotal'),\n",
       " (0.01572696021921087, 'PaceTotal'),\n",
       " (0.01444732855357998, 'HeadingAccuracy'),\n",
       " (0.014311662424204225, 'Jumping'),\n",
       " (0.014134962760443726, 'Crossing'),\n",
       " (0.013124524695591331, 'Age'),\n",
       " (0.01254988921448507, 'Stamina'),\n",
       " (0.011678523091323976, 'Aggression'),\n",
       " (0.009979224381912613, 'FKAccuracy'),\n",
       " (0.009149085661491608, 'LongPassing'),\n",
       " (0.008894502935912305, 'Penalties'),\n",
       " (0.00862014823202936, 'PhysicalityTotal'),\n",
       " (0.008198458057442235, 'Weight'),\n",
       " (0.00819188221783418, 'Height'),\n",
       " (0.00811099581149969, 'LongShots'),\n",
       " (0.007922876523693613, 'Agility'),\n",
       " (0.00767319755756804, 'Volleys'),\n",
       " (0.0072357043662660036, 'PassingTotal'),\n",
       " (0.007218482922348528, 'Curve'),\n",
       " (0.007112546240528139, 'Strength'),\n",
       " (0.006177098088156086, 'Balance'),\n",
       " (0.005973197759227908, 'Vision'),\n",
       " (0.002418942404195891, 'WeakFoot'),\n",
       " (0.0019122954427757864, 'AttackingWorkRate'),\n",
       " (0.0018386926601699437, 'SkillMoves'),\n",
       " (0.0016062082270304509, 'DefensiveWorkRate')]"
      ]
     },
     "execution_count": 18,
     "metadata": {},
     "output_type": "execute_result"
    }
   ],
   "source": [
    "sorted(list(zip(clr2.feature_importances_, X_train.columns)), reverse=True)"
   ]
  },
  {
   "cell_type": "code",
   "execution_count": 19,
   "metadata": {},
   "outputs": [
    {
     "data": {
      "text/plain": [
       "0.8107198784796187"
      ]
     },
     "execution_count": 19,
     "metadata": {},
     "output_type": "execute_result"
    }
   ],
   "source": [
    "# Predicting Release Clause in Euros\n",
    "# Split the data into train and test sets\n",
    "X_train, X_test, y_train, y_test = train_test_split(X, y3, test_size=0.1)\n",
    "# Scale the data using Standard Scaler\n",
    "scaler = StandardScaler()\n",
    "scaler = StandardScaler().fit(X_train)\n",
    "X_train_scaled = scaler.transform(X_train)\n",
    "X_test_scaled = scaler.transform(X_test)\n",
    "# Use a Random FOrest Regressor to create a prediction model\n",
    "clr3 = RandomForestRegressor()\n",
    "clr3.fit(X_train_scaled, y_train)\n",
    "clr3.score(X_test_scaled, y_test)"
   ]
  },
  {
   "cell_type": "code",
   "execution_count": 20,
   "metadata": {},
   "outputs": [
    {
     "data": {
      "text/plain": [
       "[(0.43462537343388874, 'BallControl'),\n",
       " (0.12730224071114, 'DefendingTotal'),\n",
       " (0.06108750883186848, 'DribblingTotal'),\n",
       " (0.05148270048478309, 'Age'),\n",
       " (0.03943650988889615, 'Positioning'),\n",
       " (0.034295148569400254, 'PaceTotal'),\n",
       " (0.0314092885802561, 'Stamina'),\n",
       " (0.026162231712030866, 'Interceptions'),\n",
       " (0.024707954613635962, 'ShortPassing'),\n",
       " (0.022826444261003654, 'ShootingTotal'),\n",
       " (0.013471374672352926, 'Composure'),\n",
       " (0.011178199147955896, 'Vision'),\n",
       " (0.010502212048453856, 'HeadingAccuracy'),\n",
       " (0.010054841144596, 'Crossing'),\n",
       " (0.008922234602098933, 'PhysicalityTotal'),\n",
       " (0.008506175626769958, 'Volleys'),\n",
       " (0.007703978025285065, 'PassingTotal'),\n",
       " (0.007689298223817646, 'Aggression'),\n",
       " (0.007444875747171801, 'LongPassing'),\n",
       " (0.006644278392341153, 'ShotPower'),\n",
       " (0.006409533497839361, 'LongShots'),\n",
       " (0.006046209772351085, 'Strength'),\n",
       " (0.00594601867493355, 'Penalties'),\n",
       " (0.0054154696279435175, 'Jumping'),\n",
       " (0.004945292333663546, 'Height'),\n",
       " (0.004833801296548928, 'FKAccuracy'),\n",
       " (0.004199251322833427, 'Balance'),\n",
       " (0.003973211770516261, 'Weight'),\n",
       " (0.0037938445773504337, 'Agility'),\n",
       " (0.0036904722763776146, 'Curve'),\n",
       " (0.0015189709226564687, 'SkillMoves'),\n",
       " (0.0013013512659373683, 'WeakFoot'),\n",
       " (0.0012605466178853843, 'AttackingWorkRate'),\n",
       " (0.001213157325416673, 'DefensiveWorkRate')]"
      ]
     },
     "execution_count": 20,
     "metadata": {},
     "output_type": "execute_result"
    }
   ],
   "source": [
    "sorted(list(zip(clr3.feature_importances_, X_train.columns)), reverse=True)"
   ]
  },
  {
   "cell_type": "code",
   "execution_count": 29,
   "metadata": {},
   "outputs": [],
   "source": [
    "# Save Models and scaler using pickle\n",
    "# pickle.dump(scaler, open(\"models/scaler.sav\", \"wb\"))\n",
    "# pickle.dump(clr0, open(\"models/clr0.sav\", \"wb\"))\n",
    "# pickle.dump(clr1, open(\"models/clr1.sav\", \"wb\"))\n",
    "# pickle.dump(clr2, open(\"models/clr2.sav\", \"wb\"))\n",
    "# pickle.dump(clr3, open(\"models/clr3.sav\", \"wb\"))"
   ]
  }
 ],
 "metadata": {
  "interpreter": {
   "hash": "7812ea015bdcee6f23a998adcdd2ef97c151c0c241b7b7070987d9313e41299d"
  },
  "kernelspec": {
   "display_name": "Python 3",
   "language": "python",
   "name": "python3"
  },
  "language_info": {
   "codemirror_mode": {
    "name": "ipython",
    "version": 3
   },
   "file_extension": ".py",
   "mimetype": "text/x-python",
   "name": "python",
   "nbconvert_exporter": "python",
   "pygments_lexer": "ipython3",
   "version": "3.8.5"
  }
 },
 "nbformat": 4,
 "nbformat_minor": 2
}
